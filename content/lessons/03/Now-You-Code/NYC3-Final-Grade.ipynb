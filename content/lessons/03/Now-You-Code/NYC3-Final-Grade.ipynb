{
  "cells": [
    {
      "metadata": {},
      "cell_type": "markdown",
      "source": "# Now You Code 3: Final Grade in IST256\n\n# Part 1\n\nOur Course Syllabus has a grading scale here:\n\nhttp://ist256.syr.edu/syllabus/#grading-scale\n\nWrite a Python program to input a number of points earned out of 600 and then\noutputs the registrar letter grade. \n\nFor example:\n\n    IST256 Grade Calculator\n    Enter total points out of 600:  550\n    Grade: A- \n"
    },
    {
      "metadata": {
        "collapsed": true
      },
      "cell_type": "markdown",
      "source": "## Step 1: Problem Analysis\n\nInputs:\n\nOutputs:\n\nAlgorithm (Steps in Program):\n\n\n"
    },
    {
      "metadata": {
        "trusted": true
      },
      "cell_type": "code",
      "source": "#Step 2: write code here\npoints = int(input(\"Enter total points out of 600: \"))\nif points >= 570:\n    print(\"Grade: A\")\nelif points >= 540 and points <= 569:\n    print(\"Grade: A-\")\nelif points >= 510 and points <= 539:\n    print(\"Grade: B+\")\nelif points >= 480 and points <= 509:\n    print(\"Grade: B\")\nelif points >= 450 and points <= 479:\n    print(\"Grade: B-\")\nelif points >= 420 and points <= 449:\n    print(\"Grade: C+\")\nelif points >= 390 and points <= 419:\n    print(\"Grade: C\")\nelif points >= 360 and points <= 389:\n    print(\"Grade: C-\")\nelif points >= 300 and points <= 359:\n    print(\"Grade: D\")\nelse:\n    print(\"Grade: F\")",
      "execution_count": 7,
      "outputs": [
        {
          "output_type": "stream",
          "name": "stdout",
          "text": "Enter total points out of 600: 360\nGrade: C-\n"
        }
      ]
    },
    {
      "metadata": {},
      "cell_type": "markdown",
      "source": "# Part 2\n\nNow that you have it working,  re-write your code to handle bad input. Specifically:\n\n\n- non integer values\n- integer values outside the 0 to 600 range.\n\n**Note:** Exception handling is not part of our algorithm. It's a programming concern, not a problem-solving concern!"
    },
    {
      "metadata": {
        "trusted": true
      },
      "cell_type": "code",
      "source": "## Step 2 (again): write code again but handle errors with try...except\ntry:\n    points = int(input(\"Enter total points out of 600: \"))\n    if points >= 0 and points <= 600:\n        if points >= 570 and points <= 600:\n            print(\"Grade: A\")\n        elif points >= 540 and points <= 569:\n            print(\"Grade: A-\")\n        elif points >= 510 and points <= 539:\n            print(\"Grade: B+\")\n        elif points >= 480 and points <= 509:\n            print(\"Grade: B\")\n        elif points >= 450 and points <= 479:\n            print(\"Grade: B-\")\n        elif points >= 420 and points <= 449:\n            print(\"Grade: C+\")\n        elif points >= 390 and points <= 419:\n            print(\"Grade: C\")\n        elif points >= 360 and points <= 389:\n            print(\"Grade: C-\")\n        elif points >= 300 and points <= 359:\n            print(\"Grade: D\")\n        else:\n            print(\"Grade: F\")\n    else:\n        print(\"Enter a valid amount of points\")\nexcept:\n    print(\"Please enter an integer\")\n",
      "execution_count": 20,
      "outputs": [
        {
          "output_type": "stream",
          "name": "stdout",
          "text": "Enter total points out of 600: ;)\nPlease enter an integer\n"
        }
      ]
    },
    {
      "metadata": {},
      "cell_type": "markdown",
      "source": "## Step 3: Questions\n\n1. What specific Python Error are we handling (please provide the name of it)?\n\nAnswer:  Syntax error\n\n2. How many times must you execute this program and check the output before you canbe reasonably assured your code is correct? Explain.\n\nAnswer:  12\n\n\n3. When testing this program do you think its more important to test numbers in the middle of the grade range or exactly on the boundary between one grade range and the next. Justify your response.\n\nAnswer:  Exactly on the boundary because it is more likely that you would make a mistake at this point. You may accidently place two outputs for one input.\n\n"
    },
    {
      "metadata": {},
      "cell_type": "markdown",
      "source": "## Step 4: Reflection\n\nReflect upon your experience completing this assignment. This should be a personal narrative, in your own voice, and cite specifics relevant to the activity as to help the grader understand how you arrived at the code you submitted. Things to consider touching upon: Elaborate on the process itself. Did your original problem analysis work as designed?  How many iterations did you go through before you arrived at the solution? Where did you struggle along the way and how did you overcome it? What did you learn from completing the assignment? What do you need to work on to get better? What was most valuable and least valuable about this exercise? Do you have any suggestions for improvements?\n\nTo make a good reflection, you should journal your thoughts, questions and comments while you complete the exercise.\n\nKeep your response to between 100 and 250 words.\n\n`--== Write Your Reflection Below Here ==--`\n\n"
    }
  ],
  "metadata": {
    "anaconda-cloud": {},
    "kernelspec": {
      "name": "python3",
      "display_name": "Python 3",
      "language": "python"
    },
    "language_info": {
      "mimetype": "text/x-python",
      "nbconvert_exporter": "python",
      "name": "python",
      "pygments_lexer": "ipython3",
      "version": "3.5.4",
      "file_extension": ".py",
      "codemirror_mode": {
        "version": 3,
        "name": "ipython"
      }
    },
    "toc": {
      "base_numbering": 1,
      "nav_menu": {},
      "number_sections": false,
      "sideBar": false,
      "skip_h1_title": false,
      "title_cell": "Table of Contents",
      "title_sidebar": "Contents",
      "toc_cell": false,
      "toc_position": {},
      "toc_section_display": false,
      "toc_window_display": false
    }
  },
  "nbformat": 4,
  "nbformat_minor": 1
}