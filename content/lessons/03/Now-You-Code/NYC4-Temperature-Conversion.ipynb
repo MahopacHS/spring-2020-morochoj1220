{
  "cells": [
    {
      "metadata": {},
      "cell_type": "markdown",
      "source": "# Now You Code 4: Temperature Conversion\n\n# Part 1\n\nWrite a Python program to input a temperature in Fahrenheit or Celcius,\nthen converts it to the other unit. The program should first input a temperature\nthen input a unit of C or F. It should then convert the temperature to the\nother unit. \n\nAfter you get it working initially, re-write it to handle bad input. \n\nExample Run 1:\n\n```\n    Enter temperature: 212\n    In which units is that: C or F? F\n    That's 100.0 C\n```\n\nExample Run 2:\n\n```\n    Enter temperature: 0\n    In which unit is that: C or F? C\n    That's 32.0 F\n```\n\nNOTE: You can find the formulas online.\n"
    },
    {
      "metadata": {
        "collapsed": true
      },
      "cell_type": "markdown",
      "source": "## Step 1: Problem Analysis\n\nInputs:\n\nOutputs:\n\nAlgorithm (Steps in Program):\n\n\n"
    },
    {
      "metadata": {
        "trusted": false
      },
      "cell_type": "code",
      "source": "#Step 2: write code here\n\n",
      "execution_count": 1,
      "outputs": []
    },
    {
      "metadata": {},
      "cell_type": "markdown",
      "source": "# Part 2\n\nNow that you have it working,  re-write your code to handle bad input using Python's `try... except` statement. When the exception occurs, you can just print the message and exit the program.\n\nExample run:\n\n```\n    Enter temperature: wicked hot\n    Sorry, that's not a temperature I can convert.\n```\n\n**Note:** Exception handling is not part of our algorithm. It's a programming concern, not a problem-solving concern!"
    },
    {
      "metadata": {
        "trusted": false
      },
      "cell_type": "code",
      "source": "## Step 2 (again): write code again but handle errors with try...except\n",
      "execution_count": 1,
      "outputs": []
    },
    {
      "metadata": {},
      "cell_type": "markdown",
      "source": "## Step 3: Questions\n\n1. What specific Python Error are we handling (please provide the name of it)?\n\nAnswer:  \n\n\n2. How many times must you execute this program before you can assume its correct? Explain.\n\nAnswer:  \n\n\n3. What happends when you enter a lower-cased 'f' or 'c' does it work? Does it work with both upper and lower cased values? How can we make it work?\n\nAnswer:   \n\n4. What happens when you enter a value other than 'F' or 'C' for the units. If you don't like the result, how can you modify the program to handle this issue?\n\nAnswer:  \n\n"
    },
    {
      "metadata": {},
      "cell_type": "markdown",
      "source": "## Step 4: Reflection\n\nReflect upon your experience completing this assignment. This should be a personal narrative, in your own voice, and cite specifics relevant to the activity as to help the grader understand how you arrived at the code you submitted. Things to consider touching upon: Elaborate on the process itself. Did your original problem analysis work as designed?  How many iterations did you go through before you arrived at the solution? Where did you struggle along the way and how did you overcome it? What did you learn from completing the assignment? What do you need to work on to get better? What was most valuable and least valuable about this exercise? Do you have any suggestions for improvements?\n\nTo make a good reflection, you should journal your thoughts, questions and comments while you complete the exercise.\n\nKeep your response to between 100 and 250 words.\n\n`--== Write Your Reflection Below Here ==--`\n"
    }
  ],
  "metadata": {
    "anaconda-cloud": {},
    "kernelspec": {
      "name": "python3",
      "display_name": "Python 3",
      "language": "python"
    },
    "language_info": {
      "mimetype": "text/x-python",
      "nbconvert_exporter": "python",
      "name": "python",
      "file_extension": ".py",
      "version": "3.5.4",
      "pygments_lexer": "ipython3",
      "codemirror_mode": {
        "version": 3,
        "name": "ipython"
      }
    },
    "toc": {
      "base_numbering": 1,
      "nav_menu": {},
      "number_sections": false,
      "sideBar": false,
      "skip_h1_title": false,
      "title_cell": "Table of Contents",
      "title_sidebar": "Contents",
      "toc_cell": false,
      "toc_position": {},
      "toc_section_display": false,
      "toc_window_display": false
    }
  },
  "nbformat": 4,
  "nbformat_minor": 1
}