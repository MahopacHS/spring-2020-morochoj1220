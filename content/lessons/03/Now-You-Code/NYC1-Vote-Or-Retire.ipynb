{
  "cells": [
    {
      "metadata": {},
      "cell_type": "markdown",
      "source": "# Now You Code 1: Vote or Retire?\n\n# Part 1\n\nWrite a program to ask for your age as input, then output 1) whether or not you can vote and 2) whether your not you can retire. Let's assume the voting age is 18 or higher, and the retirement age is 65 or higher.\n\n**NOTE:** This program is making two seprate decisions, and thus should have two separate if else statements.\n\nExample Run:\n\n```\nEnter your age: 45\nYou can vote.\nYou cannot retire.\n```\n"
    },
    {
      "metadata": {
        "collapsed": true
      },
      "cell_type": "markdown",
      "source": "## Step 1: Problem Analysis\n\nInputs: Age \n\nOutputs: Can you retire and can you vote\n\nAlgorithm (Steps in Program):\nInput age\nif age greater than or equal to 18 print \"you can vote\" else print\"You can not vote\"\nIf age greater than or equal to 65 print \"You can retire\" else print \"You can not retire\"\n\n"
    },
    {
      "metadata": {
        "trusted": true
      },
      "cell_type": "code",
      "source": "#Step 2: write code here\nage = int(input(\"Enter your age: \"))\nif age >= 18:\n    print(\"You can vote\")\nelse:\n    print(\"You can not vote\")\nif age >= 65:\n    print(\"You can retire\")\nelse:\n    print(\"You can not retire\")\n",
      "execution_count": 4,
      "outputs": [
        {
          "output_type": "stream",
          "name": "stdout",
          "text": "Enter your age: 22\nYou can vote\nYou can not retire\n"
        }
      ]
    },
    {
      "metadata": {},
      "cell_type": "markdown",
      "source": "# Part 2\n\nNow that you have it working,  re-write your code to handle bad input using Python's `try... except` statement:\n\nExample run:\n\n```\nEnter your age: threve\nThat's not an age!\n```\n\n**Note:** Exception handling is not part of our algorithm. It's a programming concern, not a problem-solving concern!"
    },
    {
      "metadata": {
        "trusted": true
      },
      "cell_type": "code",
      "source": "## Step 2 (again): write code again but handle errors with try...except\ntry:\n    age = int(input(\"Enter your age: \"))\n    if age >= 18:\n        print(\"You can vote\")\n    else:\n        print(\"You can not vote\")\n    if age >= 65:\n        print(\"You can retire\")\n    else:\n        print(\"You can not retire\")\nexcept:\n    print(\"That is not an age!\")\n",
      "execution_count": null,
      "outputs": []
    },
    {
      "metadata": {},
      "cell_type": "markdown",
      "source": "## Step 3: Questions\n\n1. What specific Python Error are we handling (please provide the name of it)?\n\nAnswer:   Logic error. I think.\n\n\n2. What happens when you enter an age of `-50`? Does the program still run? Fix your program so that it says `That's not an age` when a value less than zero is entered.\n\nAnswer:  The program still runs since that is still a number. \n\n\n3. How many times (at minimum) must we execute this program and check the results before we can be reasonably assured it is correct?\n\nAnswer:  3\n\n\n"
    },
    {
      "metadata": {},
      "cell_type": "markdown",
      "source": "## Step 4: Reflection\n\nReflect upon your experience completing this assignment. This should be a personal narrative, in your own voice, and cite specifics relevant to the activity as to help the grader understand how you arrived at the code you submitted. Things to consider touching upon: Elaborate on the process itself. Did your original problem analysis work as designed?  How many iterations did you go through before you arrived at the solution? Where did you struggle along the way and how did you overcome it? What did you learn from completing the assignment? What do you need to work on to get better? What was most valuable and least valuable about this exercise? Do you have any suggestions for improvements?\n\nTo make a good reflection, you should journal your thoughts, questions and comments while you complete the exercise.\n\nKeep your response to between 100 and 250 words.\n\n`--== Write Your Reflection Below Here ==--`\n\n"
    }
  ],
  "metadata": {
    "anaconda-cloud": {},
    "kernelspec": {
      "name": "python3",
      "display_name": "Python 3",
      "language": "python"
    },
    "language_info": {
      "mimetype": "text/x-python",
      "nbconvert_exporter": "python",
      "name": "python",
      "pygments_lexer": "ipython3",
      "version": "3.5.4",
      "file_extension": ".py",
      "codemirror_mode": {
        "version": 3,
        "name": "ipython"
      }
    },
    "toc": {
      "base_numbering": 1,
      "nav_menu": {},
      "number_sections": false,
      "sideBar": false,
      "skip_h1_title": false,
      "title_cell": "Table of Contents",
      "title_sidebar": "Contents",
      "toc_cell": false,
      "toc_position": {},
      "toc_section_display": false,
      "toc_window_display": false
    }
  },
  "nbformat": 4,
  "nbformat_minor": 1
}