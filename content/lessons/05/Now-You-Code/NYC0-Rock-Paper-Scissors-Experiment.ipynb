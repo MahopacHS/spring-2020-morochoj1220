{
  "cells": [
    {
      "metadata": {},
      "cell_type": "markdown",
      "source": "# Now You Code In Class : Rock Paper Scissors Experiment\n\nIn this now you code we will learn to re-factor a program into a function. This is the most common way to write a function when you are a beginner. *Re-factoring* is the act of re-writing code without changing its functionality. We commonly do re-factoring to improve performance or readability of our code. Through the process we will also demonstrate the DRY (don't repeat yourself principle of coding).\n\nThe way you do this is rather simple. First you write a program to solve the problem, then you re-write that program as a function and finally test the function to make sure it works as expected. \n\nThis helps train you to think abstractly about problems, but leverages what you understand currently about programming.\n\n## Introducing the Write - Refactor - Test - Rewrite approach\n\nThe best way to get good at writing functions, a skill you will need to master to become a respectable programmer, is to use the **Write - Refactor - Test - Rewrite** approach.  The basic idea is as follows:\n\n1. Write the program \n2. Identify which parts of the program can be placed in a function\n3. Refactor the code into a function. Extract the bits into a function into a new, separate cell independent of the original code. \n4. Test the function so you are confident it works, using the expect... actual approach from the lab.\n5. Re-Write the original program to call the function instead.\n\n## The Problem \n\nWhich Rock, Paper Scissors strategy is better? Random guessing or always choosing rock?\nLet's write a program which plays the game of Rock, Paper, Scissors 10,000 times and compares strategies. You can get the rock, paper scissors code from the previous lab.\n\nHere's the algorithm:\n\n1. This 10,000 times\n2.    player A's choice = use random strategy\n3.    players B's choice = use name every time strategy\n4.    play game with A and B's choices\n5.    if player A wins increment their win count, else increment player b's win count\n6. print the A and B win counts after 10,000 games.\n\n### The Approach\n\n1. Write the program once\n2. refactor step 4 into its own function `play_game(playera, playerb)` which returns the winning player.\n3. test the function to make sure it works.\n4. re-write the main program to now call the function.\n5. repeat for the strategies in 2. and 3.\n6. If time, permits write a better strategy inside a function."
    },
    {
      "metadata": {
        "trusted": false
      },
      "cell_type": "code",
      "source": "\n",
      "execution_count": null,
      "outputs": []
    }
  ],
  "metadata": {
    "anaconda-cloud": {},
    "kernelspec": {
      "name": "python3",
      "display_name": "Python 3",
      "language": "python"
    },
    "language_info": {
      "mimetype": "text/x-python",
      "nbconvert_exporter": "python",
      "name": "python",
      "pygments_lexer": "ipython3",
      "version": "3.5.4",
      "file_extension": ".py",
      "codemirror_mode": {
        "version": 3,
        "name": "ipython"
      }
    },
    "toc": {
      "base_numbering": 1,
      "nav_menu": {},
      "number_sections": false,
      "sideBar": false,
      "skip_h1_title": false,
      "title_cell": "Table of Contents",
      "title_sidebar": "Contents",
      "toc_cell": false,
      "toc_position": {},
      "toc_section_display": false,
      "toc_window_display": false
    }
  },
  "nbformat": 4,
  "nbformat_minor": 1
}