{
  "cells": [
    {
      "metadata": {},
      "cell_type": "markdown",
      "source": "# Now You Code 4: Should I Sleep In?\n\nAlways. :-) \n\nActually we'd like to write a program which will suggest whether or not we can sleep in. Our criteria will be as follows.\n\n- Is it the weekend? Then sleep in.\n- Is it a holiday? Then sleep in.\n- Otherwise you need to get up!\n\nLet's write a program to input the day of the week and ask whether or not its a holiday, then make the appropriate decision as to whether or not we should sleep in.\n\nWe will use the **Write - Refactor - Test - Rewrite** approach to complete the final solution which will refactor the day of the week logic into a function."
    },
    {
      "metadata": {},
      "cell_type": "markdown",
      "source": "## Step 1: Write\n\nHere's the algorithm of this program. Write the solution in Python.\n\n```\n    input day of the week\n    input is it a holiday\n    if day of the week is a weekend\n        print go back to bed its the weekend\n    else\n        if its a holiday\n            print go back to bed. its a holiday\n        else\n            print you need to get up\n```\n\nExample Run 1:\n\n```\nWhat day of the week is it? Monday\nIs it a holiday? No\nYou need to get up!\n```\n\nExample Run 2:\n\n```\nWhat day of the week is it? Saturday\nIs it a holiday? No\nGo back to bed! It's the weekend.\n```\n\nExample Run 3:\n\n```\nWhat day of the week is it? Monday\nIs it a holiday? Yes\nGo back to bed! It's a Holiday.\n```\n"
    },
    {
      "metadata": {
        "trusted": true
      },
      "cell_type": "code",
      "source": "## TODO: Write the solution here\nday = input(\"What day of the week is it? \")\nholiday = input(\"Is it a holiday? \")\nweekend = (\"saturday\",\"sunday\")\nif day in weekend:\n    print(\"Go back to bed! It's the weekend\")\nelif holiday == \"Yes\":\n    print(\"Go back to bed! It's a Holiday\")\nelse:\n    print(\"You need to get up!\")\n",
      "execution_count": 6,
      "outputs": [
        {
          "output_type": "stream",
          "name": "stdout",
          "text": "What day of the week is it? monday\nIs it a holiday? no\nYou need to get up!\n"
        }
      ]
    },
    {
      "metadata": {},
      "cell_type": "markdown",
      "source": "## Step 2: Refactor\n\nNext we need to refactor the part of this program which checks to see if the day of the week is a weekend. The function:\n\n- `IsWeekend()` has one input a `day_of_week` and returns `True` when it's a `Saturday` or `Sunday`, `False` for all other days.\n"
    },
    {
      "metadata": {
        "trusted": true
      },
      "cell_type": "code",
      "source": "## Step 2: Refactor into function IsWeekend(day_of_week)\ndef IsWeekend(day_of_week):\n    weekend = (\"Saturday\",\"Sunday\")\n    if day_of_week in weekend:\n        return True\n    else:\n        return False",
      "execution_count": 1,
      "outputs": []
    },
    {
      "metadata": {},
      "cell_type": "markdown",
      "source": "## Step 3: Test \n\nTime to test. Write 7 tests, once for each day of the week.\n```\nWHEN day_of_week='Monday' We EXPECT IsWeekend(day_of_week) to return False\nWHEN day_of_week='Tuesday' We EXPECT IsWeekend(day_of_week) to return False\nWHEN day_of_week='Wednesday' We EXPECT IsWeekend(day_of_week) to return False\nWHEN day_of_week='Thursday' We EXPECT IsWeekend(day_of_week) to return False\nWHEN day_of_week='Friday' We EXPECT IsWeekend(day_of_week) to return False\nWHEN day_of_week='Saturday' We EXPECT IsWeekend(day_of_week) to return True\nWHEN day_of_week='Sunday' We EXPECT IsWeekend(day_of_week) to return True\n```\n"
    },
    {
      "metadata": {
        "trusted": true
      },
      "cell_type": "code",
      "source": "# Step 3: Write tests. Similar to how we did it in the lab.\nprint(\"WHEN day_of_week='Monday' We EXPECT IsWeekend(day_of_week) to return False ACTUAL\", IsWeekend(\"Monday\"))\nprint(\"WHEN day_of_week='Tuesday' We EXPECT IsWeekend(day_of_week) to return False ACTUAL\", IsWeekend(\"Tuesday\"))\nprint(\"WHEN day_of_week='Wednesday' We EXPECT IsWeekend(day_of_week) to return False ACTUAL\", IsWeekend(\"Wednesday\"))\nprint(\"WHEN day_of_week='Thursday' We EXPECT IsWeekend(day_of_week) to return False ACTUAL\", IsWeekend(\"Thursday\"))\nprint(\"WHEN day_of_week='Friday' We EXPECT IsWeekend(day_of_week) to return False ACTUAL\", IsWeekend(\"Friday\"))\nprint(\"WHEN day_of_week='Saturday' We EXPECT IsWeekend(day_of_week) to return True ACTUAL\", IsWeekend(\"Saturday\"))\nprint(\"WHEN day_of_week='Sunday' We EXPECT IsWeekend(day_of_week) to return True ACTUAL\", IsWeekend(\"Sunday\"))",
      "execution_count": 14,
      "outputs": [
        {
          "output_type": "stream",
          "text": "WHEN day_of_week='Monday' We EXPECT IsWeekend(day_of_week) to return False ACTUAL False\nWHEN day_of_week='Tuesday' We EXPECT IsWeekend(day_of_week) to return False ACTUAL False\nWHEN day_of_week='Wednesday' We EXPECT IsWeekend(day_of_week) to return False ACTUAL False\nWHEN day_of_week='Thursday' We EXPECT IsWeekend(day_of_week) to return False ACTUAL False\nWHEN day_of_week='Friday' We EXPECT IsWeekend(day_of_week) to return False ACTUAL False\nWHEN day_of_week='Saturday' We EXPECT IsWeekend(day_of_week) to return True ACTUAL True\nWHEN day_of_week='Sunday' We EXPECT IsWeekend(day_of_week) to return True ACTUAL True\n",
          "name": "stdout"
        }
      ]
    },
    {
      "metadata": {},
      "cell_type": "markdown",
      "source": "## Step 4: rewrite the program to use the function\n\nFinally re-write the original program, but call the function you made in step 2: \n"
    },
    {
      "metadata": {
        "trusted": true
      },
      "cell_type": "code",
      "source": "## Step 4: Write program here from the algorithm above\nday = input(\"What day of the week is it? \")\nholiday = input(\"Is it a holiday? \")\nif IsWeekend(day) == True:\n    print(\"Go back to bed! Its the weekend.\")\nelse:\n    print(\"It's a weekday! Get up!\")",
      "execution_count": 3,
      "outputs": [
        {
          "output_type": "stream",
          "name": "stdout",
          "text": "What day of the week is it? no\nIs it a holiday? no\nIt's a weekday! Get up!\n"
        }
      ]
    },
    {
      "metadata": {},
      "cell_type": "markdown",
      "source": "## Step 5: Questions\n\n1. Provide 3 advantages for programming a user function in your code like `IsWeekend`?\n\nAnswer: It makes the program easier to understand. Instead of seeing a formula in our code we just see a function. It makes the program neater. We don't want messy code. Saves time if you want to do one of the formula again. Instead of rewriting the formula we could sinply use the function we created.\n\n\n2. Why did we need to write 7 tests?\n\nAnswer: One for each day of the week. We need to be sure the code runs with anyday of the week.\n\n\n3. Which code is easier to understand? Step 1 or step 4? Why? or Why not?\n\nAnswer: Step 4 because it is less line of code and the function is well named so we know what it's doing.\n\n4. What happens when you input `'sat'` for `'Saturday'` Does it work? How can the program be improved? Does improving it affect the readability of step 4? (HINT: Abstractions!!!)\n\nAnswer: It does work. We cou make a list with all the possible variations of the spelling of weekdays. But that's a bit excessive. We could also write code that checks whether or not the day entered if a weekday. And if it returns false then we could print the statement(\"enter one of the following days: Monday,Tuesday,etc\")."
    },
    {
      "metadata": {},
      "cell_type": "markdown",
      "source": "## Step 6: Reflection\n\nReflect upon your experience completing this assignment. This should be a personal narrative, in your own voice, and cite specifics relevant to the activity as to help the grader understand how you arrived at the code you submitted. Things to consider touching upon: Elaborate on the process itself. Did your original problem analysis work as designed?  How many iterations did you go through before you arrived at the solution? Where did you struggle along the way and how did you overcome it? What did you learn from completing the assignment? What do you need to work on to get better? What was most valuable and least valuable about this exercise? Do you have any suggestions for improvements?\n\nTo make a good reflection, you should journal your thoughts, questions and comments while you complete the exercise.\n\nKeep your response to between 100 and 250 words.\n\n`--== Write Your Reflection Below Here ==--`\n\n"
    }
  ],
  "metadata": {
    "anaconda-cloud": {},
    "kernelspec": {
      "name": "python3",
      "display_name": "Python 3",
      "language": "python"
    },
    "language_info": {
      "mimetype": "text/x-python",
      "nbconvert_exporter": "python",
      "name": "python",
      "pygments_lexer": "ipython3",
      "version": "3.5.4",
      "file_extension": ".py",
      "codemirror_mode": {
        "version": 3,
        "name": "ipython"
      }
    },
    "toc": {
      "base_numbering": 1,
      "nav_menu": {},
      "number_sections": false,
      "sideBar": false,
      "skip_h1_title": false,
      "title_cell": "Table of Contents",
      "title_sidebar": "Contents",
      "toc_cell": false,
      "toc_position": {},
      "toc_section_display": false,
      "toc_window_display": false
    }
  },
  "nbformat": 4,
  "nbformat_minor": 1
}