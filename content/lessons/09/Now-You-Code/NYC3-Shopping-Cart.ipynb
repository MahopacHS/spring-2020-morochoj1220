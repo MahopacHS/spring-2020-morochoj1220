{
  "cells": [
    {
      "metadata": {},
      "cell_type": "markdown",
      "source": "# Now You Code 3: Shopping Cart\n\nIn this program you will implement an online shopping cart using a Python list of dictionary. The dictionary will contain the product name, price and quantity. \n\n\nThe program should loop continually,  asking the user to enter \n - Product name\n - Product price\n - Product quantity\n\nuntil the user enters a product name of `'checkout'` at which time the loop should break.\n\nEach time through the loop you should create a dictionary of product name, product price and product quantity then add the dictionary to a list.\n\nAfter you enter `'checkout'`  the program should show:\n\n - all the items in the cart, including their quantity and price\n - and the total amount of the order, a running sum of quantity times price\n\nNOTE: Don't worry about handling bad inputs for this exercise.\n\nExample Run:\n\n```\nE-Commerce Shopping Cart\nEnter product name or 'checkout':pencil\nEnter pencil Price:0.99\nEnter pencil Quantity:10\nEnter product name or 'checkout':calculator\nEnter calculator Price:9.99\nEnter calculator Quantity:1\nEnter product name or 'checkout':checkout\npencil 10 $0.99\ncalculator 1 $9.99\nTOTAL: $19.89\n```\n\nStart out your program by writing your TODO list of steps you'll need to solve the problem!"
    },
    {
      "metadata": {
        "collapsed": true
      },
      "cell_type": "markdown",
      "source": "## Step 1: Problem Analysis\n\nInputs:\n\nOutputs:\n\nAlgorithm (Steps in Program):\n\n```\nwrite algorithm here\n```\n"
    },
    {
      "metadata": {
        "trusted": true
      },
      "cell_type": "code",
      "source": "# STEP 2: Write code\nfloat(\"7.59\")\nfloat(7.597)\n\n",
      "execution_count": 9,
      "outputs": [
        {
          "output_type": "execute_result",
          "execution_count": 9,
          "data": {
            "text/plain": "7.597"
          },
          "metadata": {}
        }
      ]
    },
    {
      "metadata": {},
      "cell_type": "markdown",
      "source": "## Step 3: Questions\n\n1. How does using a Python dictionary simplify this program? (Think of how you would have to write this program if you did not use a dictionary)\n\nAnswer:\n\n\n2. What Happens when you run the program and just type `checkout`. Does the program work as you would expect?\n\n\nAnswer:\n\n"
    },
    {
      "metadata": {},
      "cell_type": "markdown",
      "source": "## Step 4: Reflection\n\nReflect upon your experience completing this assignment. This should be a personal narrative, in your own voice, and cite specifics relevant to the activity as to help the grader understand how you arrived at the code you submitted. Things to consider touching upon: Elaborate on the process itself. Did your original problem analysis work as designed?  How many iterations did you go through before you arrived at the solution? Where did you struggle along the way and how did you overcome it? What did you learn from completing the assignment? What do you need to work on to get better? What was most valuable and least valuable about this exercise? Do you have any suggestions for improvements?\n\nTo make a good reflection, you should journal your thoughts, questions and comments while you complete the exercise.\n\nKeep your response to between 100 and 250 words.\n\n`--== Write Your Reflection Below Here ==--`\n\n"
    }
  ],
  "metadata": {
    "anaconda-cloud": {},
    "kernelspec": {
      "name": "python3",
      "display_name": "Python 3",
      "language": "python"
    },
    "language_info": {
      "mimetype": "text/x-python",
      "nbconvert_exporter": "python",
      "name": "python",
      "file_extension": ".py",
      "version": "3.5.4",
      "pygments_lexer": "ipython3",
      "codemirror_mode": {
        "version": 3,
        "name": "ipython"
      }
    },
    "toc": {
      "base_numbering": 1,
      "nav_menu": {},
      "number_sections": false,
      "sideBar": false,
      "skip_h1_title": false,
      "title_cell": "Table of Contents",
      "title_sidebar": "Contents",
      "toc_cell": false,
      "toc_position": {},
      "toc_section_display": false,
      "toc_window_display": false
    }
  },
  "nbformat": 4,
  "nbformat_minor": 1
}