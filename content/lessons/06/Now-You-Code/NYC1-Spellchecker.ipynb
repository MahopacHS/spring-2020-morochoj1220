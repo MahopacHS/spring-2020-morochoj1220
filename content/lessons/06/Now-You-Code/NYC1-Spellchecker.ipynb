{
  "cells": [
    {
      "metadata": {},
      "cell_type": "markdown",
      "source": "# Now You Code 1: Spellchecker\n\nLet's build a rudimentary spell checker. The basic idea is as follows:\n\n- provide a list of correctly spelled words\n- check the input words against the list of correctly spelled words\n- output any words not in the list.\n\nOf course we cannot provide every possible word, but we'll try that in a later assignment. Also, DO NOT consider the above an algorithm. Your actual algorithm should be much more detailed than the above. \n\n\nSample run:\n```\nEnter some text: The boy went to the stroe.\n\nPossible mispellings:\nboy\nstroe\n\n```\n\nMake sure to remove capitalizations and puncuations from the text."
    },
    {
      "metadata": {},
      "cell_type": "markdown",
      "source": "## Step 1: Problem Analysis for full Program\n\nInputs:\n\nOutputs:\n\nAlgorithm (Steps in Program):\n\n"
    },
    {
      "metadata": {
        "trusted": true
      },
      "cell_type": "code",
      "source": "## Step 2: todo write code for full problem\nsentence = input(\"Enter the sentence:'The boy went to the store'\")\ngoodwords = (\"The boy went to the store\")\nmisspellings = []\nfor word in sentence.split(' '):\n    if word not in goodwords.split(' '):\n        misspellings.append(word)\nprint(sentence,\"has possible misspellings\",misspellings)",
      "execution_count": 7,
      "outputs": [
        {
          "output_type": "stream",
          "name": "stdout",
          "text": "Enter the sentence:'The boy went to the store'The byo went to the stroe\nThe byo went to the stroe has possible misspellings ['byo', 'stroe']\n"
        }
      ]
    },
    {
      "metadata": {},
      "cell_type": "markdown",
      "source": "## Step 3: Questions\n\n1. Part of your solution should be re-factored into a function. Which part? Why?\n\nAnswer: The for loop should be re-factored into a function. This function could be reused over and over again.\n\n2. Devise a strategy to differentiate from a word that's not in the list versus a misspelled word in the list.\n\nAnswer: Use the \"Try except\" function."
    },
    {
      "metadata": {},
      "cell_type": "markdown",
      "source": "## Step 4: Reflection\n\nReflect upon your experience completing this assignment. This should be a personal narrative, in your own voice, and cite specifics relevant to the activity as to help the grader understand how you arrived at the code you submitted. Things to consider touching upon: Elaborate on the process itself. Did your original problem analysis work as designed?  How many iterations did you go through before you arrived at the solution? Where did you struggle along the way and how did you overcome it? What did you learn from completing the assignment? What do you need to work on to get better? What was most valuable and least valuable about this exercise? Do you have any suggestions for improvements?\n\nTo make a good reflection, you should journal your thoughts, questions and comments while you complete the exercise.\n\nKeep your response to between 100 and 250 words.\n\n`--== Write Your Reflection Below Here ==--`\n\n"
    }
  ],
  "metadata": {
    "anaconda-cloud": {},
    "kernelspec": {
      "name": "python3",
      "display_name": "Python 3",
      "language": "python"
    },
    "language_info": {
      "mimetype": "text/x-python",
      "nbconvert_exporter": "python",
      "name": "python",
      "pygments_lexer": "ipython3",
      "version": "3.5.4",
      "file_extension": ".py",
      "codemirror_mode": {
        "version": 3,
        "name": "ipython"
      }
    },
    "toc": {
      "base_numbering": 1,
      "nav_menu": {},
      "number_sections": false,
      "sideBar": false,
      "skip_h1_title": false,
      "title_cell": "Table of Contents",
      "title_sidebar": "Contents",
      "toc_cell": false,
      "toc_position": {},
      "toc_section_display": false,
      "toc_window_display": false
    }
  },
  "nbformat": 4,
  "nbformat_minor": 1
}